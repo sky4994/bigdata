{
 "cells": [
  {
   "cell_type": "markdown",
   "metadata": {},
   "source": [
    "# 02장 Numpy 기본(배열다루기)"
   ]
  },
  {
   "cell_type": "code",
   "execution_count": 9,
   "metadata": {},
   "outputs": [
    {
     "name": "stdout",
     "output_type": "stream",
     "text": [
      "<class 'list'>\n",
      "<class 'numpy.ndarray'>\n"
     ]
    },
    {
     "data": {
      "text/plain": [
       "array([0, 1, 2, 3, 4, 5])"
      ]
     },
     "execution_count": 9,
     "metadata": {},
     "output_type": "execute_result"
    }
   ],
   "source": [
    "# 라이브러리 설치 : pip install numpy\n",
    "import numpy as np\n",
    "data1 = [0,1,2,3,4,5]   \n",
    "print(type(data1))      \n",
    "a1 = np.array(data1)    \n",
    "print(type(a1))\n",
    "a1   \n",
    "# ndarray : 다차원 배열 "
   ]
  },
  {
   "cell_type": "code",
   "execution_count": 10,
   "metadata": {},
   "outputs": [
    {
     "data": {
      "text/plain": [
       "dtype('int32')"
      ]
     },
     "execution_count": 10,
     "metadata": {},
     "output_type": "execute_result"
    }
   ],
   "source": [
    "a1.dtype"
   ]
  },
  {
   "cell_type": "code",
   "execution_count": 15,
   "metadata": {},
   "outputs": [
    {
     "name": "stdout",
     "output_type": "stream",
     "text": [
      "[0.1 2.  3.1 4.5 5. ]\n",
      "<class 'numpy.ndarray'>\n",
      "float64\n"
     ]
    },
    {
     "data": {
      "text/plain": [
       "array([0.1, 2. , 3.1, 4.5, 5. ])"
      ]
     },
     "execution_count": 15,
     "metadata": {},
     "output_type": "execute_result"
    }
   ],
   "source": [
    "data2 = [0.1, 2, 3.1, 4.5, 5.0]\n",
    "a2 = np.array(data2)\n",
    "print(a2)\n",
    "print(type(a2))\n",
    "print(a2.dtype)\n",
    "a2"
   ]
  },
  {
   "cell_type": "code",
   "execution_count": 26,
   "metadata": {},
   "outputs": [
    {
     "name": "stdout",
     "output_type": "stream",
     "text": [
      "[ 0  1  2  3  4  5  6  7  8  9 10 11]\n",
      "(12,)\n"
     ]
    },
    {
     "data": {
      "text/plain": [
       "array([ 0,  1,  2,  3,  4,  5,  6,  7,  8,  9, 10, 11])"
      ]
     },
     "execution_count": 26,
     "metadata": {},
     "output_type": "execute_result"
    }
   ],
   "source": [
    "# np.arange()\n",
    "a3 = np.arange(12)\n",
    "print(a3)\n",
    "print(a3.shape)\n",
    "a3"
   ]
  },
  {
   "cell_type": "code",
   "execution_count": 18,
   "metadata": {},
   "outputs": [
    {
     "data": {
      "text/plain": [
       "array([2, 3, 4, 5, 6, 7, 8, 9])"
      ]
     },
     "execution_count": 18,
     "metadata": {},
     "output_type": "execute_result"
    }
   ],
   "source": [
    "a4 = np.arange(2,10)\n",
    "a4"
   ]
  },
  {
   "cell_type": "code",
   "execution_count": 19,
   "metadata": {},
   "outputs": [
    {
     "data": {
      "text/plain": [
       "array([ 0,  2,  4,  6,  8, 10, 12, 14])"
      ]
     },
     "execution_count": 19,
     "metadata": {},
     "output_type": "execute_result"
    }
   ],
   "source": [
    "a5 = np.arange(0,16,2)\n",
    "a5 "
   ]
  },
  {
   "cell_type": "markdown",
   "metadata": {},
   "source": [
    "2차원,3차원,다차원 배열\n",
    "Rank : 차원 , 첫 데이터까지의 대괄호의 갯수   \n",
    "Shape : 차원의 요소들의 수\n",
    "      1차원 Shape : (x,)\n",
    "      2차원 Shape : (x,y)\n",
    "      3차원 Shape : (x,y,z)\n",
    "          ...\n",
    "      n차원 Shape : (x,y,z,.....)"
   ]
  },
  {
   "cell_type": "code",
   "execution_count": 27,
   "metadata": {},
   "outputs": [
    {
     "name": "stdout",
     "output_type": "stream",
     "text": [
      "[[0 1 2]\n",
      " [0 1 2]]\n",
      "(2, 3)\n"
     ]
    },
    {
     "data": {
      "text/plain": [
       "array([[0, 1, 2],\n",
       "       [0, 1, 2]])"
      ]
     },
     "execution_count": 27,
     "metadata": {},
     "output_type": "execute_result"
    }
   ],
   "source": [
    "m2 = np.array([np.arange(3), np.arange(3)])\n",
    "print(m2)\n",
    "print(m2.shape) # (2, 3)\n",
    "m2"
   ]
  },
  {
   "cell_type": "code",
   "execution_count": 28,
   "metadata": {},
   "outputs": [
    {
     "name": "stdout",
     "output_type": "stream",
     "text": [
      "[[[ 0  1  2]\n",
      "  [ 3  4  5]]\n",
      "\n",
      " [[ 6  7  8]\n",
      "  [ 9 10 11]]]\n",
      "(2, 2, 3)\n"
     ]
    },
    {
     "data": {
      "text/plain": [
       "array([[[ 0,  1,  2],\n",
       "        [ 3,  4,  5]],\n",
       "\n",
       "       [[ 6,  7,  8],\n",
       "        [ 9, 10, 11]]])"
      ]
     },
     "execution_count": 28,
     "metadata": {},
     "output_type": "execute_result"
    }
   ],
   "source": [
    "m3 = np.arange(12).reshape(2,2,3)\n",
    "print(m3)\n",
    "print(m3.shape) # (2, 2, 3)\n",
    "m3"
   ]
  },
  {
   "cell_type": "code",
   "execution_count": 32,
   "metadata": {},
   "outputs": [
    {
     "name": "stdout",
     "output_type": "stream",
     "text": [
      "(1, 1, 2, 3)\n"
     ]
    },
    {
     "data": {
      "text/plain": [
       "array([[[[1, 2, 3],\n",
       "         [4, 5, 6]]]])"
      ]
     },
     "execution_count": 32,
     "metadata": {},
     "output_type": "execute_result"
    }
   ],
   "source": [
    "m_list = [[[[1,2,3],[4,5,6]]]]\n",
    "m4 = np.array(m_list)\n",
    "print(m4.shape)  #  (1, 1, 2, 3)\n",
    "m4\n",
    "  "
   ]
  },
  {
   "cell_type": "markdown",
   "metadata": {},
   "source": [
    "배열의 shape 바꾸기 : reshape()"
   ]
  },
  {
   "cell_type": "code",
   "execution_count": 50,
   "metadata": {},
   "outputs": [
    {
     "name": "stdout",
     "output_type": "stream",
     "text": [
      "(12,)\n",
      "[ 0  1  2  3  4  5  6  7  8  9 10 11]\n",
      "(3, 4)\n",
      "[[ 0  1  2  3]\n",
      " [ 4  5  6  7]\n",
      " [ 8  9 10 11]]\n",
      "(2, 6)\n",
      "[[ 0  1  2  3  4  5]\n",
      " [ 6  7  8  9 10 11]]\n",
      "(4, 3)\n",
      "[[ 0  1  2]\n",
      " [ 3  4  5]\n",
      " [ 6  7  8]\n",
      " [ 9 10 11]]\n",
      "(2, 3, 2)\n",
      "[[[ 0  1]\n",
      "  [ 2  3]\n",
      "  [ 4  5]]\n",
      "\n",
      " [[ 6  7]\n",
      "  [ 8  9]\n",
      "  [10 11]]]\n",
      "(1, 2, 3, 2)\n",
      "[[[[ 0  1]\n",
      "   [ 2  3]\n",
      "   [ 4  5]]\n",
      "\n",
      "  [[ 6  7]\n",
      "   [ 8  9]\n",
      "   [10 11]]]]\n"
     ]
    }
   ],
   "source": [
    "# 1차원\n",
    "d = np.arange(12)\n",
    "print(d.shape)\n",
    "print(d)\n",
    "\n",
    "# 2차원\n",
    "d = d.reshape(3,4)\n",
    "print(d.shape)\n",
    "print(d)\n",
    "\n",
    "d = d.reshape(-1,6)   # 행의 요소수를 자동으로 계산\n",
    "print(d.shape)\n",
    "print(d)\n",
    "\n",
    "d = d.reshape(4,-1)   # 열의 요소수를 자동으로 계산\n",
    "print(d.shape)\n",
    "print(d)\n",
    "\n",
    "# 3차원\n",
    "d = d.reshape(2,3,2)\n",
    "print(d.shape)\n",
    "print(d)\n",
    "\n",
    "# 4차원\n",
    "d = d.reshape(1,2,3,2)\n",
    "print(d.shape)\n",
    "print(d)\n",
    "\n"
   ]
  },
  {
   "cell_type": "markdown",
   "metadata": {},
   "source": [
    " 배열의 인덱싱과 슬라이싱 "
   ]
  },
  {
   "cell_type": "code",
   "execution_count": 99,
   "metadata": {},
   "outputs": [
    {
     "name": "stdout",
     "output_type": "stream",
     "text": [
      "[ 0  1  2  3  4  5  6  7  8  9 10 11]\n",
      "[11 10  9  8  7  6  5  4  3  2  1  0]\n",
      "0 1 11\n",
      "[ 0  1  2  3  4  5  6  7  8  9 10] [0 3 6 9]\n"
     ]
    }
   ],
   "source": [
    "# 1차원 배열의 인덱싱과 슬라이싱 : list와 동일항 방법\n",
    "d = np.arange(12)\n",
    "print(d)\n",
    "print(d[0],d[1],d[-1])\n",
    "print(d[:-1], d[::3])"
   ]
  },
  {
   "cell_type": "code",
   "execution_count": 106,
   "metadata": {},
   "outputs": [
    {
     "name": "stdout",
     "output_type": "stream",
     "text": [
      "[[ 0  1  2  3]\n",
      " [ 4  5  6  7]\n",
      " [ 8  9 10 11]]\n",
      "0\n",
      "10\n",
      "[0 1 2 3]\n",
      "[0 1 2 3]\n",
      "[[ 0  1  2]\n",
      " [ 4  5  6]\n",
      " [ 8  9 10]]\n",
      "[[ 0  2]\n",
      " [ 8 10]]\n",
      "[[20 30 40 50]\n",
      " [ 4  5  6  7]\n",
      " [ 8  9 10 11]]\n",
      "[[30 30 40 30]\n",
      " [ 4  5  6  7]\n",
      " [ 8  9 10 11]]\n"
     ]
    }
   ],
   "source": [
    "# 2차원 배열의 인덱싱과 슬라이싱\n",
    "# data[행, 열]\n",
    "d = np.arange(12).reshape(3,4)\n",
    "print(d) \n",
    "\n",
    "# 인덱싱\n",
    "print(d[0,0])   # 0\n",
    "print(d[2,2])   # 10\n",
    "# 슬라이싱\n",
    "print(d[0])     # [0 1 2 3]\n",
    "print(d[0,:])   # [0 1 2 3]\n",
    "print(d[:,:-1])\n",
    "print(d[::2,::2])\n",
    "d[0] = 20\n",
    "print(d)\n",
    "d[::3,::3] = 30\n",
    "print(d)"
   ]
  },
  {
   "cell_type": "code",
   "execution_count": 88,
   "metadata": {},
   "outputs": [
    {
     "name": "stdout",
     "output_type": "stream",
     "text": [
      "[[[ 0  1  2]\n",
      "  [ 3  4  5]]\n",
      "\n",
      " [[ 6  7  8]\n",
      "  [ 9 10 11]]]\n",
      "7\n",
      "5\n",
      "[[[0 1]]\n",
      "\n",
      " [[6 7]]]\n",
      "[[[ 4  5]]\n",
      "\n",
      " [[10 11]]]\n"
     ]
    }
   ],
   "source": [
    "# 3차원 배열의 인덱싱과 슬라이싱\n",
    "# data[행, 열, 면]\n",
    "d = np.arange(12).reshape(2,2,3)\n",
    "print(d)\n",
    "# 인덱싱\n",
    "print(d[1,0,1])  # 7\n",
    "print(d[0,1,2])   # 5\n",
    "# 슬라이싱\n",
    "print(d[:,:-1,:-1])  # shape:(2,1,2)\n",
    "print(d[:,1:,1:])    # shape:(2,1,2)\n",
    "# [[[4 5]]\n",
    "#  [[10 11]]]\n"
   ]
  },
  {
   "cell_type": "code",
   "execution_count": 95,
   "metadata": {},
   "outputs": [
    {
     "name": "stdout",
     "output_type": "stream",
     "text": [
      "[[ 0  1  2  3]\n",
      " [ 4  5  6  7]\n",
      " [ 8  9 10 11]]\n",
      "[0 1 2 3]\n",
      "1\n",
      "1\n"
     ]
    }
   ],
   "source": [
    "d = np.arange(12).reshape(3,4)\n",
    "print(d)\n",
    "print(d[0])\n",
    "print(d[0][1])\n",
    "print(d[0,1])"
   ]
  },
  {
   "cell_type": "code",
   "execution_count": 97,
   "metadata": {},
   "outputs": [
    {
     "name": "stdout",
     "output_type": "stream",
     "text": [
      "[[[ 0  1  2]\n",
      "  [ 3  4  5]]\n",
      "\n",
      " [[ 6  7  8]\n",
      "  [ 9 10 11]]]\n",
      "[[0 1 2]\n",
      " [3 4 5]]\n",
      "[3 4 5]\n",
      "[3 4 5]\n",
      "3\n",
      "3\n"
     ]
    }
   ],
   "source": [
    "d = np.arange(12).reshape(2,2,3)\n",
    "print(d)\n",
    "print(d[0])\n",
    "print(d[0][1])\n",
    "print(d[0,1])\n",
    "print(d[0][1][0])  # 3\n",
    "print(d[0,1,0])    # 3 "
   ]
  },
  {
   "cell_type": "markdown",
   "metadata": {},
   "source": [
    "배열 형상 다루기: 편평화(flatten), 전치(transpose), reshape"
   ]
  },
  {
   "cell_type": "code",
   "execution_count": 119,
   "metadata": {},
   "outputs": [
    {
     "name": "stdout",
     "output_type": "stream",
     "text": [
      "[[ 0  1  2  3]\n",
      " [ 4  5  6  7]\n",
      " [ 8  9 10 11]]\n",
      "[ 0  1  2  3  4  5  6  7  8  9 10 11] (12,)\n",
      "[[ 0  1  2  3]\n",
      " [ 4  5  6  7]\n",
      " [ 8  9 10 11]]\n",
      "[[ 8  9 10 11]\n",
      " [ 4  5  6  7]\n",
      " [ 0  1  2  3]]\n",
      "[[ 3  2  1  0]\n",
      " [ 7  6  5  4]\n",
      " [11 10  9  8]]\n",
      "[[11 10  9  8]\n",
      " [ 7  6  5  4]\n",
      " [ 3  2  1  0]]\n",
      "[[ 0  4  8]\n",
      " [ 1  5  9]\n",
      " [ 2  6 10]\n",
      " [ 3  7 11]]\n",
      "(4, 3)\n"
     ]
    }
   ],
   "source": [
    "# flatten() : 다차원 배열을 1차원으로 만든다 \n",
    "d = np.arange(12).reshape(3,4)\n",
    "print(d)\n",
    "f = d.flatten()    # f = d.reshape(12,) 같은 결과 \n",
    "print(f,f.shape)   # (12,)\n",
    "r = f.reshape(3,4)\n",
    "print(d)\n",
    "\n",
    "# 데이터 순서를 거꾸로 변경\n",
    "print(d[::-1])    # 행의 순서를 거꾸로 변경\n",
    "print(d[:,::-1])  # 열의 순서를 거꾸로 변경\n",
    "print(d[::-1,::-1])  # 행과 열의 순서를 모두 거꾸로 변경\n",
    "\n",
    "# transpose() : 전치 행렬, 행과 열을 서로 맞바꾸는 함수\n",
    "t = d.transpose()\n",
    "print(t)\n",
    "print(t.shape)   # (4, 3)\n",
    "# [[ 0  4  8]\n",
    "#  [ 1  5  9]\n",
    "#  [ 2  6 10]\n",
    "#  [ 3  7 11]]\n"
   ]
  },
  {
   "cell_type": "markdown",
   "metadata": {},
   "source": [
    "배열합치기\n",
    "- 수평(h, 열)으로 합치기 : hstack(), column_stack()  ,axis = 1 \n",
    "- 수직(v, 행)으로 합치기 : vstack(), row_stack() , axis = 0"
   ]
  },
  {
   "cell_type": "code",
   "execution_count": 128,
   "metadata": {},
   "outputs": [
    {
     "name": "stdout",
     "output_type": "stream",
     "text": [
      "[[0 1 2]\n",
      " [3 4 5]\n",
      " [6 7 8]]\n",
      "[[ 0  2  4]\n",
      " [ 6  8 10]\n",
      " [12 14 16]]\n",
      "[[ 0  1  2  0  2  4]\n",
      " [ 3  4  5  6  8 10]\n",
      " [ 6  7  8 12 14 16]]\n",
      "[[ 0  1  2  0  2  4]\n",
      " [ 3  4  5  6  8 10]\n",
      " [ 6  7  8 12 14 16]]\n",
      "[[ 0  1  2  0  2  4]\n",
      " [ 3  4  5  6  8 10]\n",
      " [ 6  7  8 12 14 16]]\n"
     ]
    }
   ],
   "source": [
    "# 수평(열)으로 합치기: hstack()\n",
    "a = np.arange(9).reshape(3,3)\n",
    "b = a * 2      # 배열의 연산\n",
    "print(a)\n",
    "print(b)\n",
    "r = np.hstack((a,b))\n",
    "print(r)\n",
    "c = np.column_stack((a,b)) \n",
    "print(c)\n",
    "\n",
    "x = np.concatenate((a,b),axis = 1)  # 열 : axis = 1\n",
    "print(x)"
   ]
  },
  {
   "cell_type": "code",
   "execution_count": 129,
   "metadata": {},
   "outputs": [
    {
     "name": "stdout",
     "output_type": "stream",
     "text": [
      "[[0 1 2]\n",
      " [3 4 5]\n",
      " [6 7 8]]\n",
      "[[ 0  2  4]\n",
      " [ 6  8 10]\n",
      " [12 14 16]]\n",
      "[[ 0  1  2]\n",
      " [ 3  4  5]\n",
      " [ 6  7  8]\n",
      " [ 0  2  4]\n",
      " [ 6  8 10]\n",
      " [12 14 16]]\n",
      "[[ 0  1  2]\n",
      " [ 3  4  5]\n",
      " [ 6  7  8]\n",
      " [ 0  2  4]\n",
      " [ 6  8 10]\n",
      " [12 14 16]]\n",
      "[[ 0  1  2]\n",
      " [ 3  4  5]\n",
      " [ 6  7  8]\n",
      " [ 0  2  4]\n",
      " [ 6  8 10]\n",
      " [12 14 16]]\n"
     ]
    }
   ],
   "source": [
    "# 수직으로 합치기: vstack()\n",
    "a = np.arange(9).reshape(3,3)\n",
    "b = a * 2      # 배열의 연산\n",
    "print(a)\n",
    "print(b)\n",
    "r = np.vstack((a,b))\n",
    "print(r)\n",
    "c = np.row_stack((a,b)) \n",
    "print(c)\n",
    "\n",
    "x = np.concatenate((a,b),axis = 0)  # 행 : axis = 0\n",
    "print(x)"
   ]
  },
  {
   "cell_type": "markdown",
   "metadata": {},
   "source": [
    " 쪼개기 \n",
    "- hsplit(배열, 열의 갯수) : 수평, 열, axis = 1\n",
    "- vsplit(배열,행의 갯수) : 수직,행, axis = 0"
   ]
  },
  {
   "cell_type": "code",
   "execution_count": 146,
   "metadata": {},
   "outputs": [
    {
     "name": "stdout",
     "output_type": "stream",
     "text": [
      "[[ 0  1  2  3]\n",
      " [ 4  5  6  7]\n",
      " [ 8  9 10 11]]\n",
      "[[0 0 0 0]\n",
      " [0 0 0 0]\n",
      " [0 0 0 0]]\n",
      "[array([[0],\n",
      "       [0],\n",
      "       [0]]), array([[0],\n",
      "       [0],\n",
      "       [0]]), array([[0],\n",
      "       [0],\n",
      "       [0]]), array([[0],\n",
      "       [0],\n",
      "       [0]])]\n",
      "[array([[0],\n",
      "       [0],\n",
      "       [0]]), array([[0],\n",
      "       [0],\n",
      "       [0]]), array([[0],\n",
      "       [0],\n",
      "       [0]]), array([[0],\n",
      "       [0],\n",
      "       [0]])]\n",
      "[array([[0, 0, 0, 0]]), array([[0, 0, 0, 0]]), array([[0, 0, 0, 0]])]\n",
      "[array([[0, 0, 0, 0]]), array([[0, 0, 0, 0]]), array([[0, 0, 0, 0]])]\n"
     ]
    }
   ],
   "source": [
    "a = np.arange(12).reshape(3,4)\n",
    "print(a)\n",
    "\n",
    "print(np.hsplit(a,4))\n",
    "print(np.split(a,4,axis = 1)) # 열\n",
    "\n",
    "print(np.vsplit(a,3))\n",
    "print(np.split(a,3,axis = 0)) # 행\n"
   ]
  },
  {
   "cell_type": "markdown",
   "metadata": {},
   "source": [
    "Numpy 속성(Attrribute) : 클래스의 인스턴스 멤버변수\n",
    "- T, flat, ndim, nbytes,size, dtype"
   ]
  },
  {
   "cell_type": "code",
   "execution_count": 158,
   "metadata": {},
   "outputs": [
    {
     "name": "stdout",
     "output_type": "stream",
     "text": [
      "[[ 0  1  2  3]\n",
      " [ 4  5  6  7]\n",
      " [ 8  9 10 11]]\n",
      "48\n",
      "12\n",
      "int32\n",
      "2\n",
      "[[ 0  4  8]\n",
      " [ 1  5  9]\n",
      " [ 2  6 10]\n",
      " [ 3  7 11]]\n",
      "[[10 10 10 10]\n",
      " [10 10 10 10]\n",
      " [10 10 10 10]]\n"
     ]
    }
   ],
   "source": [
    "\n",
    "a = np.arange(12).reshape(3,4)\n",
    "print(a)\n",
    "print(a.nbytes)  # 48 : byte단위로 데이터 크기\n",
    "print(a.size)    # 12 : 데이터 크기 \n",
    "print(a.dtype)   #  int32 --> 4 byte\n",
    "print(a.ndim)    # 2  ,차원의 크기 \n",
    "print(a.T)       # 전치 행렬  \n",
    "a.flat = 0       # 배열 전체를 0으로 변경 \n",
    "print(a)\n"
   ]
  },
  {
   "cell_type": "markdown",
   "metadata": {},
   "source": [
    "배열의 뷰(View)와 사본(Copy)\n",
    "- View : 원본 객체와 메모리를 공유한다\n",
    "- Copy : 원본 객체와는 다른 별도의 메모리를 사용한다"
   ]
  },
  {
   "cell_type": "code",
   "execution_count": 190,
   "metadata": {},
   "outputs": [
    {
     "name": "stdout",
     "output_type": "stream",
     "text": [
      "<class 'numpy.ndarray'>\n",
      "(768, 1024, 3)\n",
      "2359296\n",
      "2359296\n",
      "uint8\n",
      "3\n"
     ]
    },
    {
     "data": {
      "image/png": "[encoded data removed]",
      "text/plain": [
       "<Figure size 432x288 with 3 Axes>"
      ]
     },
     "metadata": {
      "needs_background": "light"
     },
     "output_type": "display_data"
    }
   ],
   "source": [
    "import scipy.misc\n",
    "import matplotlib.pyplot as plt\n",
    "\n",
    "face = scipy.misc.face()   # face: read only\n",
    "face2 = face.copy()        # face2: read and write 가능\n",
    "print(type(face2))\n",
    "print(face2.shape)  # (768, 1024, 3)\n",
    "print(face2.nbytes)  # 2359296 : byte단위로 데이터 크기\n",
    "print(face2.size)    # 2359296 : 데이터 크기 \n",
    "print(face2.dtype)   # uint8 --> 1 byte\n",
    "print(face2.ndim)    # 3  ,차원의 크기 \n",
    "\n",
    "f_copy = face2.copy()\n",
    "f_copy.flat = 0\n",
    "\n",
    "f_view = face2.view()\n",
    "# f_view.flat = 0\n",
    "plt.subplot(221)\n",
    "# face2[:,:,2] = 0\n",
    "\n",
    "# for i in range(768):\n",
    "#     for j in range(1024):\n",
    "#         for k in range(3):\n",
    "#             face[i][j][k] = 0\n",
    "            \n",
    "plt.imshow(face2)\n",
    "plt.subplot(222)\n",
    "plt.imshow(f_copy)\n",
    "plt.subplot(223)\n",
    "plt.imshow(f_view)\n",
    "plt.show()\n",
    "\n",
    "\n",
    "\n",
    "# print(face2)"
   ]
  },
  {
   "cell_type": "code",
   "execution_count": null,
   "metadata": {},
   "outputs": [],
   "source": []
  }
 ],
 "metadata": {
  "kernelspec": {
   "display_name": "Python 3",
   "language": "python",
   "name": "python3"
  },
  "language_info": {
   "codemirror_mode": {
    "name": "ipython",
    "version": 3
   },
   "file_extension": ".py",
   "mimetype": "text/x-python",
   "name": "python",
   "nbconvert_exporter": "python",
   "pygments_lexer": "ipython3",
   "version": "3.7.3"
  }
 },
 "nbformat": 4,
 "nbformat_minor": 2
}
